{
  "nbformat": 4,
  "nbformat_minor": 0,
  "metadata": {
    "colab": {
      "provenance": [],
      "include_colab_link": true
    },
    "kernelspec": {
      "name": "python3",
      "display_name": "Python 3"
    },
    "language_info": {
      "name": "python"
    }
  },
  "cells": [
    {
      "cell_type": "markdown",
      "metadata": {
        "id": "view-in-github",
        "colab_type": "text"
      },
      "source": [
        "<a href=\"https://colab.research.google.com/github/sunwoosan/todayis/blob/main/day02_%EA%B3%BC%EC%A0%9C%ED%92%80%EC%9D%B4.ipynb\" target=\"_parent\"><img src=\"https://colab.research.google.com/assets/colab-badge.svg\" alt=\"Open In Colab\"/></a>"
      ]
    },
    {
      "cell_type": "markdown",
      "source": [
        "#1. '본인 이름', 생년월일(8글자), 'python', '2일차 과제' 출력하기 (변수명 name, birthday, subject, string)"
      ],
      "metadata": {
        "id": "LyiuUPE7sjeg"
      }
    },
    {
      "cell_type": "code",
      "execution_count": null,
      "metadata": {
        "colab": {
          "base_uri": "https://localhost:8080/"
        },
        "id": "rPD19-z2shjP",
        "outputId": "ac456d62-6e31-4c0f-ad89-b06614a7bdb0"
      },
      "outputs": [
        {
          "output_type": "stream",
          "name": "stdout",
          "text": [
            "이름 : 김영선 생일 : 20221019 과목 : python 문자열 : 2일차 과제\n",
            "2 2\n",
            "1019\n",
            "영선\n",
            "yhn\n",
            "김영선 20221019\n"
          ]
        }
      ],
      "source": [
        "name = '김영선'\n",
        "        #  01234567\n",
        "birthday = 20221019\n",
        "subject = 'python'\n",
        "string = '2일차 과제'\n",
        "    #     -6-5-4-3-2-1\n",
        "\n",
        "# 1-1) %연산자로 출력\n",
        "print(\"이름 : %s 생일 : %d 과목 : %s 문자열 : %s\" % (name, birthday, subject, string))\n",
        "\n",
        "# 1-2) 2일차 과제 문자열에서 2만 추출하기(마이너스 인덱스)\n",
        "print(string[-6], string[0])\n",
        "\n",
        "# 1-3) 생년월일에서 생일만 추출하여 출력하기(인덱스 슬라이싱 이용)\n",
        "print(str(birthday)[4:]) #TypeError => int() 에서는 인덱스가 불가능함\n",
        "\n",
        "# 1-4) 본인 이름에서 뒤에 성을 제외한 '이름'과 \n",
        "# python 문자열에서 'yhn'만 추출하여 출력하기(슬라이싱 이용)\n",
        "print(name[1:])\n",
        "print(subject[1::2])\n",
        "\n",
        "# 1-5) 본인이름과 생년월일이 한 줄에 출력되도록 하기(f-stirng 이용)\n",
        "print(f\"{name} {birthday}\")"
      ]
    },
    {
      "cell_type": "markdown",
      "source": [
        "# 2. 정수형 변수 1개 Fasle값이 들어가있는 변수 1개를 사용자로부터 입력받은 다음 정수형은 논리형으로, 논리형은 실수형으로 출력하기(각 변수는 num1과 bool1로 설정)"
      ],
      "metadata": {
        "id": "avHC0xnpvOeT"
      }
    },
    {
      "cell_type": "code",
      "source": [
        "num1 = int(input(\"정수입력 : \"))\n",
        "bool1 = (input(\"False 값 입력 : \"))\n",
        "bool2 = ''\n",
        "print(bool(bool2))\n",
        "    #논리형 자료형 False 값 : 0, [], {}, () 등\n",
        "                    # True 값 : False값을 제외한 나머지\n",
        "print(f\"기존 입력값 = {num1} 기존 입력값 타입 = {type(num1)}\")\n",
        "print(f\"논리형으로 변경 = {bool(num1)} 논리형으로 변경값 타입 = {type(bool(num1))}\")\n",
        "print(bool1, type(bool1))"
      ],
      "metadata": {
        "colab": {
          "base_uri": "https://localhost:8080/"
        },
        "id": "gOCNq8NivQnm",
        "outputId": "7094bf07-614f-468b-ac6d-775f2a36ae06"
      },
      "execution_count": null,
      "outputs": [
        {
          "output_type": "stream",
          "name": "stdout",
          "text": [
            "정수입력 : 6\n",
            "False 값 입력 : \n",
            "False\n",
            "기존 입력값 = 6 기존 입력값 타입 = <class 'int'>\n",
            "논리형으로 변경 = True 논리형으로 변경값 타입 = <class 'bool'>\n",
            " <class 'str'>\n"
          ]
        }
      ]
    },
    {
      "cell_type": "markdown",
      "source": [
        "# 3. 사용자로부터 2개의 실수를 입력받아서 합계 출력하기, 아래 결과와 동일하게 만들기(의미있는 변수명 2개 선언)\n"
      ],
      "metadata": {
        "id": "Z5ujDPAewaZQ"
      }
    },
    {
      "cell_type": "code",
      "source": [
        "# 첫번째 실수 : 2.35 \n",
        "# 두번째 실수 : 1.22\n",
        "# 2.35와 1.22의 합은 3.57입니다.\n",
        "# 정수는 3입니다.\n",
        "\n",
        "float1 = float(input(\"첫번째 실수 : \"))\n",
        "float2 = float(input(\"두번째 실수 : \"))\n",
        "print(f\" {float1}와 {float2}의 합은 {float1 + float2}입니다.\")\n",
        "#부동소수점은 입력하는 십진 부동소수점 숫자가 실제로 저장될 때 이진 부동소수점 수로 근사값으로 표현되기 때문\n",
        "#https://docs.python.org/ko/3/tutorial/floatingpoint.html\n",
        "\n",
        "\n",
        "print(\"%f와 %f의 합은 %.2f입니다.\" %(float1, float2, float1+float2))\n",
        "\n",
        "print(\"{}와 {}의 합은 {:.2f}입니다.\".format(float1, float2, float1+float2))"
      ],
      "metadata": {
        "colab": {
          "base_uri": "https://localhost:8080/"
        },
        "id": "UA02hD0KweBS",
        "outputId": "909ce8f2-6073-4851-a983-22a49343308b"
      },
      "execution_count": null,
      "outputs": [
        {
          "output_type": "stream",
          "name": "stdout",
          "text": [
            "첫번째 실수 : 2.35\n",
            "두번째 실수 : 1.22\n",
            " 2.35와 1.22의 합은 3.5700000000000003입니다.\n",
            "2.350000와 1.220000의 합은 3.57입니다.\n",
            "2.35와 1.22의 합은 3.57입니다.\n"
          ]
        }
      ]
    },
    {
      "cell_type": "markdown",
      "source": [
        "파이썬의 출력함수는 ( print() )이고, 파이썬의 입력함수는 ( input() )입니다. 출력 할 수 있는 방법은 ( %연산자 ), ( .format(값) ),( f-string )가 있습니다."
      ],
      "metadata": {
        "id": "wQgECTdpyOxz"
      }
    }
  ]
}