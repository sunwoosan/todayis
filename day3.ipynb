{
  "nbformat": 4,
  "nbformat_minor": 0,
  "metadata": {
    "colab": {
      "provenance": [],
      "authorship_tag": "ABX9TyPLc7ihrRERBgL/e7cdX+ay",
      "include_colab_link": true
    },
    "kernelspec": {
      "name": "python3",
      "display_name": "Python 3"
    },
    "language_info": {
      "name": "python"
    }
  },
  "cells": [
    {
      "cell_type": "markdown",
      "metadata": {
        "id": "view-in-github",
        "colab_type": "text"
      },
      "source": [
        "<a href=\"https://colab.research.google.com/github/sunwoosan/todayis/blob/main/day3.ipynb\" target=\"_parent\"><img src=\"https://colab.research.google.com/assets/colab-badge.svg\" alt=\"Open In Colab\"/></a>"
      ]
    },
    {
      "cell_type": "markdown",
      "source": [
        "#3일차"
      ],
      "metadata": {
        "id": "LN-qDgqIT5o-"
      }
    },
    {
      "cell_type": "markdown",
      "source": [
        "#1. 연산자"
      ],
      "metadata": {
        "id": "o95HcjjGUPQF"
      }
    },
    {
      "cell_type": "markdown",
      "source": [
        "1) 산술연산자(int, float 사용)"
      ],
      "metadata": {
        "id": "57tk7bp3qjRs"
      }
    },
    {
      "cell_type": "code",
      "source": [
        "print(1+4, type(1+4))\n",
        "print('안녕'+'하세요') #문자열일때는 연결을 의미\n",
        "print(3-1, type(3-1))\n",
        "print(3.14//3)\n",
        "\n",
        "#print('hi'+1.2) #TypeError > 문자열과 실수형(정수형)은 서로 연산을 할 수가 없음\n",
        "#다시 고쳐서 써보면\n",
        "print('hi'+str(1.2))\n",
        "\n",
        "#실습 7.3을 사용해서 해보새오. \n",
        "\n",
        "print(7+3)\n",
        "print(7-3)\n",
        "print(7/3) #정수/정수 = 실수형\n",
        "print(7//3) \n",
        "#print(7/0) #정수 / 0 -> 오류 ZeroDivisionError: division by zero\n",
        "print(7%3)\n",
        "print(7**3)\n",
        "\n",
        "#print('안녕'*'하세요') #TypeError: can't multiply sequence by non-int of type 'str'\n",
        "print('hi'*3) #문자열에서 곱셈을 하게되면 '문자열' * '정수형' -> 반복을 의미함 "
      ],
      "metadata": {
        "colab": {
          "base_uri": "https://localhost:8080/"
        },
        "id": "FavaaRhHqnKo",
        "outputId": "d0be30b5-1754-44f8-f835-c936b6a937e5"
      },
      "execution_count": 17,
      "outputs": [
        {
          "output_type": "stream",
          "name": "stdout",
          "text": [
            "5 <class 'int'>\n",
            "안녕하세요\n",
            "2 <class 'int'>\n",
            "1.0\n",
            "hi1.2\n",
            "10\n",
            "4\n",
            "2.3333333333333335\n",
            "2\n",
            "1\n",
            "343\n",
            "hihihi\n"
          ]
        }
      ]
    },
    {
      "cell_type": "markdown",
      "source": [
        "2) 대입 연산자 \n",
        "\n",
        "= 는 반드시 왼쪽에 변수 배치 되고 오른쪽에 저장할 값 배치 \n",
        "\n",
        "복합 대입 연산자는 연산자를 통해 먼저 연산을 진행하고 그 결과를 변수에 대입, 즉 연산 다 끝내고 대입하겠다."
      ],
      "metadata": {
        "id": "BBxeb0n4wdt6"
      }
    },
    {
      "cell_type": "code",
      "source": [
        "num1 = 2\n",
        "num1 += 1\n",
        "print(num1)\n",
        "\n",
        "num2 = 3\n",
        "num2 -= 1 #num2 = 3 - 1\n",
        "print(num2)\n",
        "\n",
        "num3 = 10\n",
        "num3 += 5 #num3 = num3 + 5\n",
        "print(num3)\n",
        "\n",
        "num3 *= 2 #기존에 잇는 num3에 *2를 하겠다. 같은 변수에 다른 값들이 저장. \n",
        "print(num3)#변수의 재사용\n",
        "\n",
        "num1 **= 2 #num1 = 3 ** 2\n",
        "print(num1)\n",
        "\n",
        "num1 /= 3 #num1에 나누기 3을 한 값을 넣겠다. (정수/정수 = 실수형이 나옴)\n",
        "print(num1) #3.0 실수형이 나옴 \n",
        "\n",
        "num1 %=2 #num1 = 3.0 % 2\n",
        "print(num1)"
      ],
      "metadata": {
        "colab": {
          "base_uri": "https://localhost:8080/"
        },
        "id": "YxjrNAB0xQAX",
        "outputId": "f12ca4ac-d906-40b9-b4f2-9266f210626e"
      },
      "execution_count": 29,
      "outputs": [
        {
          "output_type": "stream",
          "name": "stdout",
          "text": [
            "3\n",
            "2\n",
            "15\n",
            "30\n",
            "9\n",
            "3.0\n",
            "1.0\n"
          ]
        }
      ]
    },
    {
      "cell_type": "markdown",
      "source": [
        "3) **관계 연산자**(조건문이나 반복문에서 많이 사용)\n",
        "엄청 중요함"
      ],
      "metadata": {
        "id": "-3FTmIRgz2Om"
      }
    },
    {
      "cell_type": "code",
      "source": [
        "num4 = 10\n",
        "num5 = 20\n",
        "print(num4 < num5)\n",
        "print(num4 > num5)\n",
        "print(num4 <= num5) #=<로 쓰면 오류가 떠 #SyntaxError: invalid syntax\n",
        "print(num4 == num5)"
      ],
      "metadata": {
        "colab": {
          "base_uri": "https://localhost:8080/"
        },
        "id": "iygmS110z8B8",
        "outputId": "5249c061-7b36-41b1-963c-d545f5dff203"
      },
      "execution_count": 34,
      "outputs": [
        {
          "output_type": "stream",
          "name": "stdout",
          "text": [
            "True\n",
            "False\n",
            "True\n",
            "False\n"
          ]
        }
      ]
    },
    {
      "cell_type": "markdown",
      "source": [
        "4) 논리 연산자 "
      ],
      "metadata": {
        "id": "1_FhDsD71WER"
      }
    },
    {
      "cell_type": "code",
      "source": [
        "a = True\n",
        "b = False \n",
        "\n",
        "print(a and b) #and는 둘다 참이면 참, 둘 중 하나라도 거짓이면 거짓 \n",
        "print(a or b) #or는 둘중 하나라도 참이면 참이고, 둘다 거짓이면 거짓이 나와 . 둘중 하나 참이라서 참 \n",
        "print(not a) # 지금 a 는 참이니까 거짓이 나옴\n",
        "print(not b)\n",
        "print(not a and b) #뒤에 연산하고 앞에꺼 나오는 듯 \n",
        "\n",
        "num6 = 0 #False 값 \n",
        "num7 = 5 #True 값 \n",
        "num8 = True\n",
        "print(num6 and num7) #True: 1, False: 0이 출력될 것인데...둘중에 하나가 거짓(0)이니까 0\n",
        "print(num6 and num8) #둘다 참이어야 하는데 둘 중 하나라도 거짓이라서 num6이 하여간 문제다. \n",
        "print(num6 or num7) #둘 중 하나라도 참일 때니까 num7이 참. 참일 때는 참인 값 자체가 출력이 된다. \n",
        "print(not num6)\n",
        "print(num6)"
      ],
      "metadata": {
        "colab": {
          "base_uri": "https://localhost:8080/"
        },
        "id": "jdyq2SFD1Y8U",
        "outputId": "29e51860-2a58-45a3-aa5d-3b08efea6b32"
      },
      "execution_count": 47,
      "outputs": [
        {
          "output_type": "stream",
          "name": "stdout",
          "text": [
            "False\n",
            "True\n",
            "False\n",
            "True\n",
            "False\n",
            "0\n",
            "0\n",
            "5\n",
            "True\n",
            "0\n"
          ]
        }
      ]
    },
    {
      "cell_type": "code",
      "source": [
        "#논리 연산자이 출력 결과가 다음과 같도록 만들기 \n",
        "#변수가 들어가있으니 포멧팅을 해서 사용해주세요. \n",
        "a = 10\n",
        "b = 0 \n",
        "#[출력결과]\n",
        "# 10 > 0 and 0 > 0 : False\n",
        "# 10 > 0 or 0 > 0 : True\n",
        "# not 10 : False\n",
        "# not 0 : True\n",
        "\n",
        "\n",
        "num9 = 10\n",
        "num10 = 0 \n",
        "print(num9 > 0  and num10 > 0)\n",
        "print(num9 > 0 or num10 > 0)\n",
        "print(not num9)\n",
        "print(not num10)\n",
        "\n",
        "print(\"{} > 0 and {} > 0 : {}\".format(a, b, a > 0 and b >0)) #이 조건이 맞으면 들어가감\n",
        "print(\"{} > 0 and {} > 0 : {}\".format(a, b, a > 0 or b >0)) #콤마를 기준으로 하나씩 들어가는 거임\n",
        "print(\"not {} : {}\".format(a, not a)) #이 조건이 맞으면 들어가감\n",
        "print(\"not {} : {}\".format(b, not b)) #이 조건이 맞으면 들어가감\n"
      ],
      "metadata": {
        "colab": {
          "base_uri": "https://localhost:8080/"
        },
        "id": "BukoAJtb4UBI",
        "outputId": "5507b1f6-d6a8-43c2-eae2-ad6cc04c5c42"
      },
      "execution_count": 3,
      "outputs": [
        {
          "output_type": "stream",
          "name": "stdout",
          "text": [
            "False\n",
            "True\n",
            "False\n",
            "True\n",
            "10 > 0 and 0 > 0 : False\n",
            "10 > 0 and 0 > 0 : True\n",
            "not 10 : False\n",
            "not 0 : True\n"
          ]
        }
      ]
    },
    {
      "cell_type": "markdown",
      "source": [
        "5) 시퀀스 연산자 "
      ],
      "metadata": {
        "id": "ALbIKEYL4r3U"
      }
    },
    {
      "cell_type": "code",
      "source": [
        "list1 = [1,2,3,4]\n",
        "list2 = [4,5,6,7]\n",
        "print(list1, type(list1))\n",
        "print(list2, type(list2))\n",
        "print(list1+list2) #연결\n",
        "print(list1 * 3) #연결\n",
        "\n",
        "string1 = \"hi\"\n",
        "string2 = \"sun\"\n",
        "print(string1 + string2) #연결\n",
        "print(string1 * 5) #연결 "
      ],
      "metadata": {
        "colab": {
          "base_uri": "https://localhost:8080/"
        },
        "id": "wfPuxhu34tqu",
        "outputId": "bf862f4f-d8e0-4d6a-af70-a8f094c1aaf3"
      },
      "execution_count": 19,
      "outputs": [
        {
          "output_type": "stream",
          "name": "stdout",
          "text": [
            "[1, 2, 3, 4] <class 'list'>\n",
            "[4, 5, 6, 7] <class 'list'>\n",
            "[1, 2, 3, 4, 4, 5, 6, 7]\n",
            "[1, 2, 3, 4, 1, 2, 3, 4, 1, 2, 3, 4]\n",
            "hisun\n",
            "hihihihihi\n"
          ]
        }
      ]
    },
    {
      "cell_type": "markdown",
      "source": [
        "6) 비트 연산자"
      ],
      "metadata": {
        "id": "5nddHg4R5thI"
      }
    },
    {
      "cell_type": "code",
      "source": [
        "bit1 = 0b1100\n",
        "bit2 = 0b1101\n",
        "print(0b1100 & 0b1101)\n",
        "print(bit1 & bit2) # and 연산자(&): 논리곱 ( 하나라도 0이면 0, 모두 1일 때 1)\n",
        "print(bit1 | bit2) #논리합: 하나라도 1이면 1\n",
        "print(bin(~bit1)) #not 연산자(~): 0일 때 1, 1일 때 0\n",
        "print(bit1^bit2) #xor 연산자(^): 모두 같은 수일 때 0, 모두 다른수일 때 1\n",
        "print(bin(bit1<<1))#bin 넣으면 2진수로 확인 하는 것 \n",
        "print(bin(bit2>>2))"
      ],
      "metadata": {
        "colab": {
          "base_uri": "https://localhost:8080/"
        },
        "id": "UBpEzeT05EnI",
        "outputId": "75211e8a-c31a-40a0-805d-c0b0511c6453"
      },
      "execution_count": 28,
      "outputs": [
        {
          "output_type": "stream",
          "name": "stdout",
          "text": [
            "12\n",
            "12\n",
            "13\n",
            "-0b1101\n",
            "1\n",
            "0b11000\n",
            "0b11\n"
          ]
        }
      ]
    },
    {
      "cell_type": "markdown",
      "source": [
        "7) 삼항 연산자"
      ],
      "metadata": {
        "id": "WhqbwD1y-wiN"
      }
    },
    {
      "cell_type": "code",
      "source": [
        "#조건연산자를 사용해서 두 수의 차이를 출력하는 프로그램 만들기\n",
        "\n",
        "num1 = 10\n",
        "num2 = 20\n",
        "result = (num1 - num2) if (num1 >= num2) else (num2-num1)\n",
        "print(f\"{num1}과 {num2}의 차이는 {result}입니다.\")"
      ],
      "metadata": {
        "colab": {
          "base_uri": "https://localhost:8080/"
        },
        "id": "Zuh77XHs-yC1",
        "outputId": "9f2a6812-df4d-4db9-cdc6-bd3d2401a2fa"
      },
      "execution_count": 30,
      "outputs": [
        {
          "output_type": "stream",
          "name": "stdout",
          "text": [
            "10과 20의 차이는 10입니다.\n"
          ]
        }
      ]
    },
    {
      "cell_type": "markdown",
      "source": [
        "#2. 컬렉션(list, tuple, set, dict)"
      ],
      "metadata": {
        "id": "wJDX95kwAUG5"
      }
    },
    {
      "cell_type": "markdown",
      "source": [
        "1) list"
      ],
      "metadata": {
        "id": "0T_TQq7JAkEf"
      }
    },
    {
      "cell_type": "code",
      "source": [
        "list1 =[1,2,3,4,5]\n",
        "print(list1, type(list1)) #시퀀스 자료형\n",
        "print(list1[2]) #list도 인덱스가 가능하다\n",
        "print(list1[1:4]) #인덱스가 가능할 때는 슬라이싱이 가능하다\n",
        "\n",
        "list2 = [6,7,8,9]\n",
        "print(list1+list2)\n",
        "print(list1*3) #정수형으로 넣어야 함 \n",
        "\n",
        "list3 = [\"hi\"]\n",
        "print(list3, type(list3)) #여기서는 리스트는 리스트로 인식했음 "
      ],
      "metadata": {
        "colab": {
          "base_uri": "https://localhost:8080/"
        },
        "id": "IJD_eQocAjkk",
        "outputId": "bbe9e90b-5b0f-4b1f-c184-8741db6903d5"
      },
      "execution_count": 44,
      "outputs": [
        {
          "output_type": "stream",
          "name": "stdout",
          "text": [
            "[1, 2, 3, 4, 5] <class 'list'>\n",
            "3\n",
            "[2, 3, 4]\n",
            "[1, 2, 3, 4, 5, 6, 7, 8, 9]\n",
            "[1, 2, 3, 4, 5, 1, 2, 3, 4, 5, 1, 2, 3, 4, 5]\n",
            "['hi'] <class 'list'>\n"
          ]
        }
      ]
    },
    {
      "cell_type": "markdown",
      "source": [
        "2) tuple"
      ],
      "metadata": {
        "id": "axNaW1R5BKtU"
      }
    },
    {
      "cell_type": "code",
      "source": [
        "         #0 1 2 3 4  \n",
        "tuple1 = (1,2,3,4,5)\n",
        "tuple2 = (6,7,8,9)\n",
        "print(tuple1, type(tuple1))\n",
        "print(tuple1[2]) #인덱스가 가능하다면 시퀀스 자료형, 슬라이상\n",
        "print(tuple2[1:3])\n",
        "\n",
        "tuple3 = (\"hi\")\n",
        "print(tuple3, type(tuple3)) #튜플 자료형인 줄 알았지만 스트링으로 인식하는 걸 볼 수 있음 \n",
        "tuple4 = (\"hi\",) #한개만 쓰고 싶을때라도, 콤마를 추가 하면 \n",
        "print(tuple4, type(tuple4)) #튜플로 나옴 \n",
        "\n",
        "#그래서 자료형을 만들 때는 내가 어떤 자료형을 만들었는지 늘 확인을 해야해. type계속 보는 이유가 그것. \n",
        "#print(tuple1 + tuple3) TypeError: can only concatenate tuple (not \"str\") to tuple\n",
        "\n",
        "print(tuple1 + tuple4)\n",
        "print(tuple2 * 4)\n",
        "\n",
        "#튜프은 읽기 전용 \n",
        "#리스트는 수정이 됨 "
      ],
      "metadata": {
        "colab": {
          "base_uri": "https://localhost:8080/"
        },
        "id": "8k_JWUQlA4iS",
        "outputId": "43b7ef4e-60b8-4ac7-aadc-d7f4b27f7221"
      },
      "execution_count": 52,
      "outputs": [
        {
          "output_type": "stream",
          "name": "stdout",
          "text": [
            "(1, 2, 3, 4, 5) <class 'tuple'>\n",
            "3\n",
            "(7, 8)\n",
            "hi <class 'str'>\n",
            "('hi',) <class 'tuple'>\n",
            "(1, 2, 3, 4, 5, 'hi')\n",
            "(6, 7, 8, 9, 6, 7, 8, 9, 6, 7, 8, 9, 6, 7, 8, 9)\n"
          ]
        }
      ]
    },
    {
      "cell_type": "markdown",
      "source": [
        "3) set"
      ],
      "metadata": {
        "id": "qfBcishxDQnU"
      }
    },
    {
      "cell_type": "code",
      "source": [
        "set1 = {1,2,3,4}\n",
        "set2 = {5,6,7,8} #순서 없이 자기가 원하는대로 맘대로 뒤죽박죽 출력함. 시퀀시가 아님\n",
        "print(set1, type(set1))\n",
        "print(set2, type(set2))\n",
        "#print(set1[1]) \n",
        "\n",
        "#세트는 인덱스 개념이 없기 때문에 인덱스로 출력하고자하면 오류가 발생 \n",
        "#TypeError: 'set' object is not subscriptable\n",
        "\n",
        "#마찬가지로 세트는 연산도 불가 -> 즉 순서가 없다라는 말임*** \n",
        "#print(set1 +set2)\n",
        "#TypeError: unsupported operand type(s) for +: 'set' and 'set'\n",
        "\n",
        "set3 ={1,2,3,3,4,4,5,5,5}\n",
        "print(set3) #중복된 값도 허용하지 않는다(튜플, 리스트, 다 순서 있고 중복을 허용함)"
      ],
      "metadata": {
        "colab": {
          "base_uri": "https://localhost:8080/"
        },
        "id": "6M07JVGCDSUX",
        "outputId": "73f726d6-0128-4689-d9fe-e9f0667028de"
      },
      "execution_count": 56,
      "outputs": [
        {
          "output_type": "stream",
          "name": "stdout",
          "text": [
            "{1, 2, 3, 4} <class 'set'>\n",
            "{8, 5, 6, 7} <class 'set'>\n",
            "{1, 2, 3, 4, 5}\n"
          ]
        }
      ]
    }
  ]
}