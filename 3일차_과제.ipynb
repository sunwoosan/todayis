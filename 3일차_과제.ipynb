{
  "nbformat": 4,
  "nbformat_minor": 0,
  "metadata": {
    "colab": {
      "provenance": [],
      "authorship_tag": "ABX9TyO7sF6pLjo9fz7/+FlCr1Ae",
      "include_colab_link": true
    },
    "kernelspec": {
      "name": "python3",
      "display_name": "Python 3"
    },
    "language_info": {
      "name": "python"
    }
  },
  "cells": [
    {
      "cell_type": "markdown",
      "metadata": {
        "id": "view-in-github",
        "colab_type": "text"
      },
      "source": [
        "<a href=\"https://colab.research.google.com/github/sunwoosan/todayis/blob/main/3%EC%9D%BC%EC%B0%A8_%EA%B3%BC%EC%A0%9C.ipynb\" target=\"_parent\"><img src=\"https://colab.research.google.com/assets/colab-badge.svg\" alt=\"Open In Colab\"/></a>"
      ]
    },
    {
      "cell_type": "markdown",
      "source": [
        "1. 파이썬, 자바, C점수의 합계와 평균을 구한 뒤 결과 출력하기\n",
        "1) 사용자로부터 파이썬 점수, 자바 점수, C 점수를 입력받는다. 예) 50.5\n",
        "\n",
        "2) 입력한 값들의 합계와 평균을 구한다.\n",
        "\n",
        "3) 결과 출력한다. 예) 총 점수 합계는 **점, 총 평균점수는 **.**점\n"
      ],
      "metadata": {
        "id": "p-9y8XsFMdLL"
      }
    },
    {
      "cell_type": "code",
      "execution_count": null,
      "metadata": {
        "id": "sOO--QRiBPof"
      },
      "outputs": [],
      "source": []
    },
    {
      "cell_type": "markdown",
      "source": [
        "2. 복합대입연산자, 관계연산자 출력결과 확인하기\n",
        "1) 정수형 변수 2개를 생성하고 각 변수에 값을 40과 2를 대입시킨다.\n",
        "\n",
        "2) 복합 대입연산자를 모두 사용해 두개의 변수 출력결과를 확인한다.(출력결과 6개)\n",
        "\n",
        "3) 관계연산자를 사용해 두개의 변수 출력결과를 확인한다.(출력결과 6개)"
      ],
      "metadata": {
        "id": "aN5eF6zAMcQK"
      }
    },
    {
      "cell_type": "code",
      "source": [],
      "metadata": {
        "id": "kFNibesOBUDy"
      },
      "execution_count": null,
      "outputs": []
    },
    {
      "cell_type": "markdown",
      "source": [
        "3. str.format을 활용해 중괄호보다 입력이 더 많은 경우와 중괄호보다 입력이 더 적은 경우를 출력결과 확인하기\n",
        "아래 4개의 print문을 출력 후 에러발생시 어떤 에러 발생했는지와 어떻게 해결할 수 있는지 작성하기(주석처리로 작성할 것)\n",
        "\n",
        "print(\"{}은 또 하나의 {}함수 {}입니다.\".format('이것', 'print', '사용법'))\n",
        "print(\"숫자도 가능합니다 {}\".format(10))\n",
        "print(\"괄호보다 입력이 더 많은 경우는 {}\".format(\"될까요?\",\"안될까요?\")\n",
        "print(\"괄호보다 입력이 더 적을 경우는 {} {}\".format(10))"
      ],
      "metadata": {
        "id": "nDnxrbhSOL7J"
      }
    },
    {
      "cell_type": "markdown",
      "source": [
        "4. 노래 한 곡당 300원인 코인 노래방에서 금액을 입력받고 부를 수 있는 노래와 잔돈 출력하기\n",
        "\n",
        "[결과] \n",
        " 금액 : 2000\n",
        " 부를 수 있는 노래는 6곡이고, 잔돈 200원이 반환되었습니다."
      ],
      "metadata": {
        "id": "1FN2kAtmOSDB"
      }
    },
    {
      "cell_type": "code",
      "source": [],
      "metadata": {
        "id": "8LfLfWTgORv6"
      },
      "execution_count": null,
      "outputs": []
    }
  ]
}